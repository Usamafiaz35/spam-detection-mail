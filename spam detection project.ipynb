{
 "cells": [
  {
   "cell_type": "code",
   "execution_count": 46,
   "id": "df9682ff-d947-4c20-a11d-c214973a1cd8",
   "metadata": {},
   "outputs": [],
   "source": [
    "import pandas as pd\n",
    "import numpy as np\n",
    "from sklearn.feature_extraction.text import TfidfVectorizer\n",
    "from sklearn.model_selection import train_test_split\n",
    "from sklearn.naive_bayes import MultinomialNB\n",
    "from sklearn.tree import DecisionTreeClassifier\n",
    "from sklearn.metrics import accuracy_score, confusion_matrix"
   ]
  },
  {
   "cell_type": "code",
   "execution_count": 16,
   "id": "37b92382-49f1-426f-a7d4-c26575f788da",
   "metadata": {},
   "outputs": [],
   "source": [
    "dataset = pd.read_csv(r\"D:\\Data Science\\spam.csv\", encoding='latin1')"
   ]
  },
  {
   "cell_type": "code",
   "execution_count": 32,
   "id": "9fa3ac23-324d-45b6-91d6-96677153cd2e",
   "metadata": {},
   "outputs": [],
   "source": [
    "data = dataset[['v1', 'v2']]\n",
    "data.columns = ['label', 'message']"
   ]
  },
  {
   "cell_type": "code",
   "execution_count": 34,
   "id": "5a662155-651a-4639-a270-27cc2b779669",
   "metadata": {},
   "outputs": [
    {
     "data": {
      "text/html": [
       "<div>\n",
       "<style scoped>\n",
       "    .dataframe tbody tr th:only-of-type {\n",
       "        vertical-align: middle;\n",
       "    }\n",
       "\n",
       "    .dataframe tbody tr th {\n",
       "        vertical-align: top;\n",
       "    }\n",
       "\n",
       "    .dataframe thead th {\n",
       "        text-align: right;\n",
       "    }\n",
       "</style>\n",
       "<table border=\"1\" class=\"dataframe\">\n",
       "  <thead>\n",
       "    <tr style=\"text-align: right;\">\n",
       "      <th></th>\n",
       "      <th>label</th>\n",
       "      <th>message</th>\n",
       "    </tr>\n",
       "  </thead>\n",
       "  <tbody>\n",
       "    <tr>\n",
       "      <th>0</th>\n",
       "      <td>ham</td>\n",
       "      <td>Go until jurong point, crazy.. Available only ...</td>\n",
       "    </tr>\n",
       "    <tr>\n",
       "      <th>1</th>\n",
       "      <td>ham</td>\n",
       "      <td>Ok lar... Joking wif u oni...</td>\n",
       "    </tr>\n",
       "    <tr>\n",
       "      <th>2</th>\n",
       "      <td>spam</td>\n",
       "      <td>Free entry in 2 a wkly comp to win FA Cup fina...</td>\n",
       "    </tr>\n",
       "    <tr>\n",
       "      <th>3</th>\n",
       "      <td>ham</td>\n",
       "      <td>U dun say so early hor... U c already then say...</td>\n",
       "    </tr>\n",
       "    <tr>\n",
       "      <th>4</th>\n",
       "      <td>ham</td>\n",
       "      <td>Nah I don't think he goes to usf, he lives aro...</td>\n",
       "    </tr>\n",
       "    <tr>\n",
       "      <th>5</th>\n",
       "      <td>spam</td>\n",
       "      <td>FreeMsg Hey there darling it's been 3 week's n...</td>\n",
       "    </tr>\n",
       "    <tr>\n",
       "      <th>6</th>\n",
       "      <td>ham</td>\n",
       "      <td>Even my brother is not like to speak with me. ...</td>\n",
       "    </tr>\n",
       "    <tr>\n",
       "      <th>7</th>\n",
       "      <td>ham</td>\n",
       "      <td>As per your request 'Melle Melle (Oru Minnamin...</td>\n",
       "    </tr>\n",
       "    <tr>\n",
       "      <th>8</th>\n",
       "      <td>spam</td>\n",
       "      <td>WINNER!! As a valued network customer you have...</td>\n",
       "    </tr>\n",
       "    <tr>\n",
       "      <th>9</th>\n",
       "      <td>spam</td>\n",
       "      <td>Had your mobile 11 months or more? U R entitle...</td>\n",
       "    </tr>\n",
       "  </tbody>\n",
       "</table>\n",
       "</div>"
      ],
      "text/plain": [
       "  label                                            message\n",
       "0   ham  Go until jurong point, crazy.. Available only ...\n",
       "1   ham                      Ok lar... Joking wif u oni...\n",
       "2  spam  Free entry in 2 a wkly comp to win FA Cup fina...\n",
       "3   ham  U dun say so early hor... U c already then say...\n",
       "4   ham  Nah I don't think he goes to usf, he lives aro...\n",
       "5  spam  FreeMsg Hey there darling it's been 3 week's n...\n",
       "6   ham  Even my brother is not like to speak with me. ...\n",
       "7   ham  As per your request 'Melle Melle (Oru Minnamin...\n",
       "8  spam  WINNER!! As a valued network customer you have...\n",
       "9  spam  Had your mobile 11 months or more? U R entitle..."
      ]
     },
     "execution_count": 34,
     "metadata": {},
     "output_type": "execute_result"
    }
   ],
   "source": [
    "data.head(10)"
   ]
  },
  {
   "cell_type": "code",
   "execution_count": 38,
   "id": "12d71451-569a-4ebd-a310-0fa772991a45",
   "metadata": {},
   "outputs": [
    {
     "data": {
      "text/plain": [
       "(5572, 2)"
      ]
     },
     "execution_count": 38,
     "metadata": {},
     "output_type": "execute_result"
    }
   ],
   "source": [
    "data.shape"
   ]
  },
  {
   "cell_type": "code",
   "execution_count": 36,
   "id": "cb1bda4d-4ad4-4f87-843f-85dcce0e3ad2",
   "metadata": {},
   "outputs": [
    {
     "data": {
      "text/plain": [
       "label      0\n",
       "message    0\n",
       "dtype: int64"
      ]
     },
     "execution_count": 36,
     "metadata": {},
     "output_type": "execute_result"
    }
   ],
   "source": [
    "data.isnull().sum()"
   ]
  },
  {
   "cell_type": "code",
   "execution_count": 62,
   "id": "33d83806-7973-4db6-9d23-e3c6d78eaf1b",
   "metadata": {},
   "outputs": [],
   "source": [
    "tfidf = TfidfVectorizer(stop_words='english')\n",
    "x = tfidf.fit_transform(data['message'])\n",
    "y = data['label']"
   ]
  },
  {
   "cell_type": "code",
   "execution_count": 68,
   "id": "d0c92209-687d-4445-85c7-5ad75c9d82d9",
   "metadata": {},
   "outputs": [],
   "source": [
    "x_train, x_test, y_train, y_test = train_test_split(x, y, test_size=0.3, random_state=42)"
   ]
  },
  {
   "cell_type": "code",
   "execution_count": 70,
   "id": "16d2cd67-32fa-48de-9a26-3b2dcb8800ac",
   "metadata": {},
   "outputs": [],
   "source": [
    "# Naive Bayes\n",
    "nb = MultinomialNB()\n",
    "nb.fit(x_train, y_train)\n",
    "nb_pred = nb.predict(x_test)"
   ]
  },
  {
   "cell_type": "code",
   "execution_count": 76,
   "id": "f66e74cc-6d6f-45ce-b59f-89c1fd1ecad1",
   "metadata": {},
   "outputs": [
    {
     "data": {
      "text/plain": [
       "(97.97435897435898, 96.77033492822966)"
      ]
     },
     "execution_count": 76,
     "metadata": {},
     "output_type": "execute_result"
    }
   ],
   "source": [
    "nb.score(x_train , y_train)*100 , nb.score(x_test , y_test)*100"
   ]
  },
  {
   "cell_type": "code",
   "execution_count": 78,
   "id": "b4fa0d70-3aca-4f91-9d1d-02bd4c877dc6",
   "metadata": {},
   "outputs": [],
   "source": [
    "# J48 Decision Tree\n",
    "dt = DecisionTreeClassifier()\n",
    "dt.fit(x_train, y_train)\n",
    "dt_pred = dt.predict(x_test)"
   ]
  },
  {
   "cell_type": "code",
   "execution_count": 80,
   "id": "d5f60eef-8706-48a1-8435-68d9dc9d9171",
   "metadata": {},
   "outputs": [
    {
     "data": {
      "text/plain": [
       "(100.0, 96.83014354066985)"
      ]
     },
     "execution_count": 80,
     "metadata": {},
     "output_type": "execute_result"
    }
   ],
   "source": [
    "dt.score(x_train , y_train)*100 , dt.score(x_test , y_test)*100"
   ]
  },
  {
   "cell_type": "code",
   "execution_count": 86,
   "id": "c241a587-5c56-40e8-b362-65e244a320da",
   "metadata": {},
   "outputs": [
    {
     "name": "stdout",
     "output_type": "stream",
     "text": [
      "Naive Bayes Multinomial:\n",
      "Confusion Matrix:\n",
      "[[1453    0]\n",
      " [  54  165]]\n",
      "Accuracy: 96.77%\n",
      "J48 Decision Tree:\n",
      "Confusion Matrix:\n",
      "[[1432   21]\n",
      " [  32  187]]\n",
      "Accuracy: 96.83%\n"
     ]
    }
   ],
   "source": [
    "def evaluate_model(y_test, y_pred):\n",
    "    cm = confusion_matrix(y_test, y_pred)\n",
    "    acc = accuracy_score(y_test, y_pred)\n",
    "    print(f\"Confusion Matrix:\\n{cm}\")\n",
    "    print(f\"Accuracy: {acc * 100:.2f}%\")\n",
    "\n",
    "print(\"Naive Bayes Multinomial:\")\n",
    "evaluate_model(y_test, nb_pred)\n",
    "\n",
    "print(\"J48 Decision Tree:\")\n",
    "evaluate_model(y_test, dt_pred)"
   ]
  },
  {
   "cell_type": "code",
   "execution_count": 94,
   "id": "779bd530-6399-4d04-b8a5-db1a2aea8695",
   "metadata": {},
   "outputs": [
    {
     "name": "stdout",
     "output_type": "stream",
     "text": [
      "Naive Bayes Prediction: Not Spam\n",
      "Decision Tree Prediction: Not Spam\n"
     ]
    }
   ],
   "source": [
    "# Example: Predicting for a new email\n",
    "\n",
    "# Step 1: New email to classify\n",
    "new_email = [\"England v Macedonia - don't miss the goals/team news. Txt ur national team to 87077 e.g., ENGLAND to 87077 Try: WALES, SCOTLAND 4txt/Ì¼1.20 POBOXox36504W45WQ 16+\"\n",
    "]\n",
    "# Step 2: Preprocess and transform the new email\n",
    "new_email_vectorized = tfidf.transform(new_email)  # Use the same TF-IDF vectorizer\n",
    "\n",
    "# Step 3: Predict using the trained models\n",
    "nb_prediction = nb.predict(new_email_vectorized)  # Naive Bayes model\n",
    "dt_prediction = dt.predict(new_email_vectorized)  # Decision Tree model\n",
    "\n",
    "# Step 4: Interpret results\n",
    "if nb_prediction[0] == 1:\n",
    "    print(\"Naive Bayes Prediction: Spam\")\n",
    "else:\n",
    "    print(\"Naive Bayes Prediction: Not Spam\")\n",
    "\n",
    "if dt_prediction[0] == 1:\n",
    "    print(\"Decision Tree Prediction: Spam\")\n",
    "else:\n",
    "    print(\"Decision Tree Prediction: Not Spam\")\n",
    "\n",
    "\n"
   ]
  },
  {
   "cell_type": "code",
   "execution_count": null,
   "id": "b266b725-2caf-4560-9cd1-ad1252bea1cd",
   "metadata": {},
   "outputs": [],
   "source": []
  }
 ],
 "metadata": {
  "kernelspec": {
   "display_name": "Python 3 (ipykernel)",
   "language": "python",
   "name": "python3"
  },
  "language_info": {
   "codemirror_mode": {
    "name": "ipython",
    "version": 3
   },
   "file_extension": ".py",
   "mimetype": "text/x-python",
   "name": "python",
   "nbconvert_exporter": "python",
   "pygments_lexer": "ipython3",
   "version": "3.12.4"
  }
 },
 "nbformat": 4,
 "nbformat_minor": 5
}
